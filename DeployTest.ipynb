{
 "cells": [
  {
   "cell_type": "code",
   "execution_count": null,
   "metadata": {},
   "outputs": [],
   "source": [
    "conda install matplotlib"
   ]
  },
  {
   "cell_type": "code",
   "execution_count": null,
   "metadata": {},
   "outputs": [],
   "source": [
    "conda install numpy"
   ]
  },
  {
   "cell_type": "code",
   "execution_count": null,
   "metadata": {},
   "outputs": [],
   "source": [
    "conda install ipywidgets"
   ]
  },
  {
   "cell_type": "code",
   "execution_count": null,
   "metadata": {},
   "outputs": [],
   "source": [
    "import matplotlib.pyplot as plt\n",
    "%matplotlib widget\n",
    "%matplotlib inline\n",
    "import numpy as np\n",
    "import ipywidgets as widgets\n",
    "\n",
    "@widgets.interact\n",
    "def plot_indifferenceEq(t=(0.59,0.99,0.01)):\n",
    "    def f(a,b):\n",
    "        for i in range(len(a)):\n",
    "            b[i] = 2*t*a[i]-t+0.5\n",
    "        return b\n",
    "    x = np.arange(0.0,1.1,0.1)\n",
    "    y = f(x,np.empty(len(x)))\n",
    "\n",
    "    xib = (1-t)/(2*(1+2*t))\n",
    "    xjb = (1+5*t)/(2*(1+2*t))\n",
    "    pib = (1+10*t+49*t*t+48*t*t*t)/(8*(1+2*t)*(1+2*t))\n",
    "    pjb = (1-2*t+25*t*t+48*t*t*t)/(8*(1+2*t)*(1+2*t))\n",
    "    di = (1/(2*t))*(0.5+t*(xib+xjb)+(pjb-pib)/(xjb-xib))\n",
    "    dj = 1-di\n",
    "    b1 = str(round(di,2))\n",
    "    b2 = str(round(dj,2))\n",
    "    ela = abs((-1/(2*t*(xjb-xib)))*(pib/((1/2*t)*(t+((pjb-pib)/(xjb-xib))+1/2))))\n",
    "    \n",
    "    gb = 3*t*t/(2*(1+2*t))     #GGW Gewinn (i=j)\n",
    "    hb = (1-xib)*di+(1-xjb)*dj #GGW Gesundheitsindikator\n",
    "    SW1 = 2+(9+8*t-26*t*t)/(48*(1+2*t))#citizens beliefs\n",
    "    SW2 = 2+(15+32*t-26*t*t)/(48*(1+2*t))#paternalistic\n",
    "    \n",
    "    plt.figure(1,(5,5))\n",
    "    plt.xlabel('x')\n",
    "    plt.ylabel('λ')\n",
    "    plt.xlim([0,1]) \n",
    "    plt.ylim([0,1])\n",
    "    plt.plot(x,y,color='0',linewidth=3.0)\n",
    "    plt.fill_between(x,y,0,color='red')\n",
    "    plt.fill_between(x, y,1,color='green')\n",
    "    plt.text(0.01,0.935,\"D \\u1d62=\"+b1,size=15)\n",
    "    plt.text(0.74,0.025,\"D \\u2C7C=\"+b2,size=15)\n",
    "    plt.show()\n",
    "    print(\"     x\\u1d62\\u1D2E = %.3f\"%(xib))\n",
    "    print(\"     x\\u2C7C\\u1D2E = %.3f\"%(xjb))\n",
    "    print(\"     \\u03C0\\u1d62\\u1D2E = \\u03C0\\u2C7C\\u1D2E = %.3f [profit]\"%(gb))\n",
    "    print(\"     SW1\\u1D2E = %.3f     [welfare populist planner]\"%(SW1))\n",
    "    print(\"     SW2\\u1D2E = %.3f      [welfare paternalistic planner]\"%(SW2))\n",
    "    print(\"     p\\u1d62\\u1D2E = %.3f\"%(pib))\n",
    "    print(\"     p\\u2C7C\\u1D2E = %.3f\"%(pjb))\n",
    "    print(\"     \\u03B5\\u1d62 = %.3f\"%(pjb))"
   ]
  }
 ],
 "metadata": {
  "kernelspec": {
   "display_name": "Python 3",
   "language": "python",
   "name": "python3"
  },
  "language_info": {
   "codemirror_mode": {
    "name": "ipython",
    "version": 3
   },
   "file_extension": ".py",
   "mimetype": "text/x-python",
   "name": "python",
   "nbconvert_exporter": "python",
   "pygments_lexer": "ipython3",
   "version": "3.8.5"
  }
 },
 "nbformat": 4,
 "nbformat_minor": 4
}
